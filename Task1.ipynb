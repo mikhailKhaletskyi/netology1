{
 "cells": [
  {
   "cell_type": "code",
   "execution_count": null,
   "id": "f53a4bf3",
   "metadata": {},
   "outputs": [],
   "source": [
    "print('Введите слово')\n",
    "name = input()"
   ]
  },
  {
   "cell_type": "code",
   "execution_count": null,
   "id": "f1af5025",
   "metadata": {},
   "outputs": [],
   "source": [
    "if len(name)%2 == 1:\n",
    "    print(name[int(len(name)/2)])\n",
    "else:\n",
    "    print(name[int(len(name)/2)-1]+name[int(len(name)/2)])"
   ]
  },
  {
   "cell_type": "code",
   "execution_count": null,
   "id": "fbc6aacc",
   "metadata": {},
   "outputs": [],
   "source": []
  }
 ],
 "metadata": {
  "kernelspec": {
   "display_name": "Python 3",
   "language": "python",
   "name": "python3"
  },
  "language_info": {
   "codemirror_mode": {
    "name": "ipython",
    "version": 3
   },
   "file_extension": ".py",
   "mimetype": "text/x-python",
   "name": "python",
   "nbconvert_exporter": "python",
   "pygments_lexer": "ipython3",
   "version": "3.9.0"
  }
 },
 "nbformat": 4,
 "nbformat_minor": 5
}
