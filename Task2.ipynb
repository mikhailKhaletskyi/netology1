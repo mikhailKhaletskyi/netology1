{
 "cells": [
  {
   "cell_type": "code",
   "execution_count": null,
   "id": "ecafc30d",
   "metadata": {},
   "outputs": [],
   "source": [
    "sum = 0\n",
    "number = ''\n",
    "while number != '0':\n",
    "    number = input(\"Введите число \")\n",
    "    if number == '0':\n",
    "        print(sum)\n",
    "        break\n",
    "    else:\n",
    "        sum = int(number) + sum  "
   ]
  }
 ],
 "metadata": {
  "kernelspec": {
   "display_name": "Python 3",
   "language": "python",
   "name": "python3"
  },
  "language_info": {
   "codemirror_mode": {
    "name": "ipython",
    "version": 3
   },
   "file_extension": ".py",
   "mimetype": "text/x-python",
   "name": "python",
   "nbconvert_exporter": "python",
   "pygments_lexer": "ipython3",
   "version": "3.9.0"
  }
 },
 "nbformat": 4,
 "nbformat_minor": 5
}
