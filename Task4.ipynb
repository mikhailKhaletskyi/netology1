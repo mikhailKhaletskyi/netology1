{
 "cells": [
  {
   "cell_type": "code",
   "execution_count": 24,
   "id": "35590bc7",
   "metadata": {},
   "outputs": [
    {
     "name": "stdout",
     "output_type": "stream",
     "text": [
      "Введите количество наблюдений для каждой страны: 3\n",
      "Введите страны, для завершения 0: Ukr\n",
      "Введите страны, для завершения 0: Rus\n",
      "Введите страны, для завершения 0: Bel\n",
      "Введите страны, для завершения 0: Kaz\n",
      "Введите страны, для завершения 0: 0\n",
      "Введите температуру для страны 1 : 55\n",
      "Введите температуру для страны 1 : 45\n",
      "Введите температуру для страны 1 : 74\n",
      "Введите температуру для страны 2 : 45\n",
      "Введите температуру для страны 2 : 66\n",
      "Введите температуру для страны 2 : 45\n",
      "Введите температуру для страны 3 : 64\n",
      "Введите температуру для страны 3 : 34\n",
      "Введите температуру для страны 3 : 56\n",
      "Введите температуру для страны 4 : 65\n",
      "Введите температуру для страны 4 : 44\n",
      "Введите температуру для страны 4 : 54\n",
      "Ukr - 14.4 C\n",
      "Rus - 11.1 C\n",
      "Bel - 10.7 C\n",
      "Kaz - 12.4 C\n"
     ]
    }
   ],
   "source": [
    "countries = []\n",
    "country = ''\n",
    "temp = 0\n",
    "temps = []\n",
    "sum = 0\n",
    "periods = input('Введите количество наблюдений для каждой страны: ')\n",
    "while country != '0':\n",
    "    country = input('Введите страны, для завершения 0: ')\n",
    "    if country != '0':\n",
    "        countries.append(country)\n",
    "\n",
    "# Ввод температур в Фарингейтах\n",
    "for i in range(0, len(countries)*int(periods)):\n",
    "    n = i/int(periods) + 1\n",
    "    temp = input('Введите температуру для страны ' + str(int(n)) + ' : ')\n",
    "    temps.append(float(temp))\n",
    "    \n",
    "# Перевод в Цельсии и вывод\n",
    "for i in range(0, len(temps)):\n",
    "    n = i/int(periods) + 1\n",
    "    sum = sum + int(temps[i])\n",
    "    if (i+1)%int(periods) == 0:\n",
    "        avg = round((sum/int(periods) - 32)/1.8, 1)\n",
    "        print(countries[int(n)-1] + ' - ' + str(avg) + ' C')\n",
    "        sum = 0"
   ]
  }
 ],
 "metadata": {
  "kernelspec": {
   "display_name": "Python 3",
   "language": "python",
   "name": "python3"
  },
  "language_info": {
   "codemirror_mode": {
    "name": "ipython",
    "version": 3
   },
   "file_extension": ".py",
   "mimetype": "text/x-python",
   "name": "python",
   "nbconvert_exporter": "python",
   "pygments_lexer": "ipython3",
   "version": "3.9.0"
  }
 },
 "nbformat": 4,
 "nbformat_minor": 5
}
