{
 "cells": [
  {
   "cell_type": "code",
   "execution_count": 1,
   "id": "d870be9e",
   "metadata": {},
   "outputs": [
    {
     "name": "stdout",
     "output_type": "stream",
     "text": [
      "Введите имена парней, чтобы закончить введите 1Zina\n",
      "Введите имена парней, чтобы закончить введите 1Marina\n",
      "Введите имена парней, чтобы закончить введите 1Vera\n",
      "Введите имена парней, чтобы закончить введите 1Stepa\n",
      "Введите имена парней, чтобы закончить введите 11\n",
      "Введите имена девушек, чтобы закончить введите 1Misha\n",
      "Введите имена девушек, чтобы закончить введите 1Vera\n",
      "Введите имена девушек, чтобы закончить введите 1Zeri\n",
      "Введите имена девушек, чтобы закончить введите 1Lor\n",
      "Введите имена девушек, чтобы закончить введите 11\n",
      "Идеальные пары:\n",
      "Marina и Lor\n",
      "Stepa и Misha\n",
      "Vera и Vera\n",
      "Zina и Zeri\n"
     ]
    }
   ],
   "source": [
    "boys = []\n",
    "boyName = ''\n",
    "girls = []\n",
    "girlName = ''\n",
    "while boyName != '1':\n",
    "    boyName = input(\"Введите имена парней, чтобы закончить введите 1\")\n",
    "    if boyName != '1':\n",
    "        boys.append(boyName)\n",
    "\n",
    "while girlName != '1':\n",
    "    girlName = input(\"Введите имена девушек, чтобы закончить введите 1\")\n",
    "    if girlName != '1':\n",
    "        girls.append(girlName)\n",
    "\n",
    "if len(boys) != len(girls):\n",
    "    print('Внимание, кто-то может остаться без пары!')\n",
    "else:\n",
    "    boysS = sorted(boys)\n",
    "    girslS = sorted(girls)\n",
    "    print(\"Идеальные пары:\")\n",
    "    for i in range(0, len(boys)):\n",
    "        print(boysS[i] + ' и ' + girslS[i])"
   ]
  },
  {
   "cell_type": "code",
   "execution_count": null,
   "id": "43623088",
   "metadata": {},
   "outputs": [],
   "source": []
  }
 ],
 "metadata": {
  "kernelspec": {
   "display_name": "Python 3",
   "language": "python",
   "name": "python3"
  },
  "language_info": {
   "codemirror_mode": {
    "name": "ipython",
    "version": 3
   },
   "file_extension": ".py",
   "mimetype": "text/x-python",
   "name": "python",
   "nbconvert_exporter": "python",
   "pygments_lexer": "ipython3",
   "version": "3.9.0"
  }
 },
 "nbformat": 4,
 "nbformat_minor": 5
}
